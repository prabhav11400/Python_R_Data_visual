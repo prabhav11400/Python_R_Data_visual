{
 "cells": [
  {
   "cell_type": "code",
   "execution_count": 4,
   "id": "de4532ae",
   "metadata": {},
   "outputs": [
    {
     "name": "stdout",
     "output_type": "stream",
     "text": [
      "hello\n"
     ]
    }
   ],
   "source": [
    "print(\"hello\")"
   ]
  },
  {
   "cell_type": "code",
   "execution_count": 5,
   "id": "0c6bb755",
   "metadata": {},
   "outputs": [
    {
     "name": "stdout",
     "output_type": "stream",
     "text": [
      "shift+enter  : to execute existing command and enter in new cell\n"
     ]
    }
   ],
   "source": [
    "print(\"shift+enter  : to execute existing command and enter in new cell\")"
   ]
  },
  {
   "cell_type": "code",
   "execution_count": 7,
   "id": "d82a6dd2",
   "metadata": {},
   "outputs": [
    {
     "name": "stdout",
     "output_type": "stream",
     "text": [
      "Since python is also a language like R which executes line by line, not all code at once like C/C++, so jupyter is best for python like Rstudio for R\n"
     ]
    }
   ],
   "source": [
    "print(\"Since python is also a language like R which executes line by line, not all code at once like C/C++, so jupyter is best for python like Rstudio for R\")"
   ]
  },
  {
   "cell_type": "code",
   "execution_count": null,
   "id": "f2122afa",
   "metadata": {},
   "outputs": [],
   "source": []
  },
  {
   "cell_type": "code",
   "execution_count": null,
   "id": "64ede4d9",
   "metadata": {},
   "outputs": [],
   "source": []
  }
 ],
 "metadata": {
  "kernelspec": {
   "display_name": "Python 3 (ipykernel)",
   "language": "python",
   "name": "python3"
  },
  "language_info": {
   "codemirror_mode": {
    "name": "ipython",
    "version": 3
   },
   "file_extension": ".py",
   "mimetype": "text/x-python",
   "name": "python",
   "nbconvert_exporter": "python",
   "pygments_lexer": "ipython3",
   "version": "3.8.10"
  }
 },
 "nbformat": 4,
 "nbformat_minor": 5
}
